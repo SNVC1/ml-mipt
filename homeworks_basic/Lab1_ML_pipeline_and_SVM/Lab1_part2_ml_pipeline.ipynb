{
 "cells": [
  {
   "cell_type": "markdown",
   "metadata": {
    "nbgrader": {
     "grade": false,
     "grade_id": "cell-86e0de040aac317a",
     "locked": true,
     "schema_version": 2,
     "solution": false
    }
   },
   "source": [
    "# Lab assignment №1, part 2\n",
    "\n",
    "This lab assignment consists of several parts. You are supposed to make some transformations, train some models, estimate the quality of the models and explain your results.\n",
    "\n",
    "Several comments:\n",
    "* Don't hesitate to ask questions, it's a good practice.\n",
    "* No private/public sharing, please. The copied assignments will be graded with 0 points.\n",
    "* Blocks of this lab will be graded separately."
   ]
  },
  {
   "cell_type": "markdown",
   "metadata": {},
   "source": [
    "__*This is the second part of the assignment. First and third parts are waiting for you in the same directory.*__"
   ]
  },
  {
   "cell_type": "markdown",
   "metadata": {
    "nbgrader": {
     "grade": false,
     "grade_id": "cell-512ba712fc0fc065",
     "locked": true,
     "schema_version": 2,
     "solution": false
    }
   },
   "source": [
    "## Part 2. Data preprocessing, model training and evaluation."
   ]
  },
  {
   "cell_type": "markdown",
   "metadata": {
    "nbgrader": {
     "grade": false,
     "grade_id": "cell-b656a4266174b009",
     "locked": true,
     "schema_version": 2,
     "solution": false
    }
   },
   "source": [
    "### 1. Reading the data\n",
    "Today we work with the [dataset](https://archive.ics.uci.edu/ml/datasets/Statlog+%28Vehicle+Silhouettes%29), describing different cars for multiclass ($k=4$) classification problem. The data is available below."
   ]
  },
  {
   "cell_type": "code",
   "execution_count": 1,
   "metadata": {},
   "outputs": [],
   "source": [
    "# If on colab, uncomment the following lines\n",
    "\n",
    "# ! wget https://raw.githubusercontent.com/ml-mipt/ml-mipt/basic_s20/homeworks_basic/Lab1_ML_pipeline_and_SVM/car_data.csv"
   ]
  },
  {
   "cell_type": "code",
   "execution_count": 2,
   "metadata": {
    "nbgrader": {
     "grade": false,
     "grade_id": "cell-eebac6bfdf73d0bc",
     "locked": true,
     "schema_version": 2,
     "solution": false
    }
   },
   "outputs": [
    {
     "name": "stdout",
     "output_type": "stream",
     "text": [
      "(846, 19) (846,)\n"
     ]
    }
   ],
   "source": [
    "import pandas as pd\n",
    "import numpy as np\n",
    "from sklearn.model_selection import train_test_split\n",
    "\n",
    "dataset = pd.read_csv('car_data.csv', delimiter=',', header=None).values\n",
    "data = dataset[:, :-1].astype(int)\n",
    "target = dataset[:, -1]\n",
    "\n",
    "print(data.shape, target.shape)\n",
    "\n",
    "X_train, X_test, y_train, y_test = train_test_split(data, target, test_size=0.35)"
   ]
  },
  {
   "cell_type": "markdown",
   "metadata": {
    "nbgrader": {
     "grade": false,
     "grade_id": "cell-88b1a0f688568f2c",
     "locked": true,
     "schema_version": 2,
     "solution": false
    }
   },
   "source": [
    "To get some insights about the dataset, `pandas` might be used. The `train` part is transformed to `pd.DataFrame` below."
   ]
  },
  {
   "cell_type": "code",
   "execution_count": 3,
   "metadata": {},
   "outputs": [
    {
     "data": {
      "text/html": [
       "<div>\n",
       "<style scoped>\n",
       "    .dataframe tbody tr th:only-of-type {\n",
       "        vertical-align: middle;\n",
       "    }\n",
       "\n",
       "    .dataframe tbody tr th {\n",
       "        vertical-align: top;\n",
       "    }\n",
       "\n",
       "    .dataframe thead th {\n",
       "        text-align: right;\n",
       "    }\n",
       "</style>\n",
       "<table border=\"1\" class=\"dataframe\">\n",
       "  <thead>\n",
       "    <tr style=\"text-align: right;\">\n",
       "      <th></th>\n",
       "      <th>0</th>\n",
       "      <th>1</th>\n",
       "      <th>2</th>\n",
       "      <th>3</th>\n",
       "      <th>4</th>\n",
       "      <th>5</th>\n",
       "      <th>6</th>\n",
       "      <th>7</th>\n",
       "      <th>8</th>\n",
       "      <th>9</th>\n",
       "      <th>10</th>\n",
       "      <th>11</th>\n",
       "      <th>12</th>\n",
       "      <th>13</th>\n",
       "      <th>14</th>\n",
       "      <th>15</th>\n",
       "      <th>16</th>\n",
       "      <th>17</th>\n",
       "      <th>18</th>\n",
       "    </tr>\n",
       "  </thead>\n",
       "  <tbody>\n",
       "    <tr>\n",
       "      <th>0</th>\n",
       "      <td>31</td>\n",
       "      <td>88</td>\n",
       "      <td>42</td>\n",
       "      <td>77</td>\n",
       "      <td>151</td>\n",
       "      <td>58</td>\n",
       "      <td>8</td>\n",
       "      <td>140</td>\n",
       "      <td>47</td>\n",
       "      <td>18</td>\n",
       "      <td>142</td>\n",
       "      <td>165</td>\n",
       "      <td>293</td>\n",
       "      <td>158</td>\n",
       "      <td>64</td>\n",
       "      <td>10</td>\n",
       "      <td>11</td>\n",
       "      <td>198</td>\n",
       "      <td>205</td>\n",
       "    </tr>\n",
       "    <tr>\n",
       "      <th>1</th>\n",
       "      <td>562</td>\n",
       "      <td>113</td>\n",
       "      <td>53</td>\n",
       "      <td>93</td>\n",
       "      <td>197</td>\n",
       "      <td>62</td>\n",
       "      <td>11</td>\n",
       "      <td>216</td>\n",
       "      <td>31</td>\n",
       "      <td>24</td>\n",
       "      <td>165</td>\n",
       "      <td>221</td>\n",
       "      <td>688</td>\n",
       "      <td>196</td>\n",
       "      <td>72</td>\n",
       "      <td>6</td>\n",
       "      <td>25</td>\n",
       "      <td>188</td>\n",
       "      <td>199</td>\n",
       "    </tr>\n",
       "    <tr>\n",
       "      <th>2</th>\n",
       "      <td>592</td>\n",
       "      <td>79</td>\n",
       "      <td>43</td>\n",
       "      <td>72</td>\n",
       "      <td>141</td>\n",
       "      <td>62</td>\n",
       "      <td>8</td>\n",
       "      <td>153</td>\n",
       "      <td>44</td>\n",
       "      <td>19</td>\n",
       "      <td>144</td>\n",
       "      <td>175</td>\n",
       "      <td>344</td>\n",
       "      <td>174</td>\n",
       "      <td>78</td>\n",
       "      <td>0</td>\n",
       "      <td>8</td>\n",
       "      <td>182</td>\n",
       "      <td>188</td>\n",
       "    </tr>\n",
       "    <tr>\n",
       "      <th>3</th>\n",
       "      <td>58</td>\n",
       "      <td>107</td>\n",
       "      <td>53</td>\n",
       "      <td>103</td>\n",
       "      <td>221</td>\n",
       "      <td>66</td>\n",
       "      <td>11</td>\n",
       "      <td>209</td>\n",
       "      <td>32</td>\n",
       "      <td>24</td>\n",
       "      <td>163</td>\n",
       "      <td>222</td>\n",
       "      <td>653</td>\n",
       "      <td>212</td>\n",
       "      <td>66</td>\n",
       "      <td>0</td>\n",
       "      <td>1</td>\n",
       "      <td>191</td>\n",
       "      <td>201</td>\n",
       "    </tr>\n",
       "    <tr>\n",
       "      <th>4</th>\n",
       "      <td>328</td>\n",
       "      <td>93</td>\n",
       "      <td>43</td>\n",
       "      <td>88</td>\n",
       "      <td>170</td>\n",
       "      <td>66</td>\n",
       "      <td>9</td>\n",
       "      <td>150</td>\n",
       "      <td>45</td>\n",
       "      <td>19</td>\n",
       "      <td>147</td>\n",
       "      <td>164</td>\n",
       "      <td>334</td>\n",
       "      <td>143</td>\n",
       "      <td>65</td>\n",
       "      <td>2</td>\n",
       "      <td>17</td>\n",
       "      <td>196</td>\n",
       "      <td>206</td>\n",
       "    </tr>\n",
       "    <tr>\n",
       "      <th>5</th>\n",
       "      <td>760</td>\n",
       "      <td>107</td>\n",
       "      <td>45</td>\n",
       "      <td>92</td>\n",
       "      <td>197</td>\n",
       "      <td>62</td>\n",
       "      <td>10</td>\n",
       "      <td>188</td>\n",
       "      <td>35</td>\n",
       "      <td>22</td>\n",
       "      <td>148</td>\n",
       "      <td>202</td>\n",
       "      <td>526</td>\n",
       "      <td>159</td>\n",
       "      <td>64</td>\n",
       "      <td>12</td>\n",
       "      <td>20</td>\n",
       "      <td>195</td>\n",
       "      <td>203</td>\n",
       "    </tr>\n",
       "    <tr>\n",
       "      <th>6</th>\n",
       "      <td>737</td>\n",
       "      <td>105</td>\n",
       "      <td>51</td>\n",
       "      <td>93</td>\n",
       "      <td>160</td>\n",
       "      <td>51</td>\n",
       "      <td>7</td>\n",
       "      <td>217</td>\n",
       "      <td>30</td>\n",
       "      <td>24</td>\n",
       "      <td>165</td>\n",
       "      <td>240</td>\n",
       "      <td>703</td>\n",
       "      <td>208</td>\n",
       "      <td>81</td>\n",
       "      <td>9</td>\n",
       "      <td>25</td>\n",
       "      <td>188</td>\n",
       "      <td>188</td>\n",
       "    </tr>\n",
       "    <tr>\n",
       "      <th>7</th>\n",
       "      <td>399</td>\n",
       "      <td>87</td>\n",
       "      <td>42</td>\n",
       "      <td>64</td>\n",
       "      <td>150</td>\n",
       "      <td>64</td>\n",
       "      <td>10</td>\n",
       "      <td>133</td>\n",
       "      <td>50</td>\n",
       "      <td>18</td>\n",
       "      <td>141</td>\n",
       "      <td>157</td>\n",
       "      <td>265</td>\n",
       "      <td>159</td>\n",
       "      <td>67</td>\n",
       "      <td>7</td>\n",
       "      <td>0</td>\n",
       "      <td>193</td>\n",
       "      <td>201</td>\n",
       "    </tr>\n",
       "    <tr>\n",
       "      <th>8</th>\n",
       "      <td>504</td>\n",
       "      <td>97</td>\n",
       "      <td>46</td>\n",
       "      <td>94</td>\n",
       "      <td>209</td>\n",
       "      <td>67</td>\n",
       "      <td>10</td>\n",
       "      <td>195</td>\n",
       "      <td>34</td>\n",
       "      <td>22</td>\n",
       "      <td>147</td>\n",
       "      <td>224</td>\n",
       "      <td>573</td>\n",
       "      <td>194</td>\n",
       "      <td>70</td>\n",
       "      <td>0</td>\n",
       "      <td>14</td>\n",
       "      <td>188</td>\n",
       "      <td>197</td>\n",
       "    </tr>\n",
       "    <tr>\n",
       "      <th>9</th>\n",
       "      <td>115</td>\n",
       "      <td>95</td>\n",
       "      <td>47</td>\n",
       "      <td>88</td>\n",
       "      <td>162</td>\n",
       "      <td>64</td>\n",
       "      <td>11</td>\n",
       "      <td>159</td>\n",
       "      <td>43</td>\n",
       "      <td>20</td>\n",
       "      <td>157</td>\n",
       "      <td>176</td>\n",
       "      <td>371</td>\n",
       "      <td>185</td>\n",
       "      <td>71</td>\n",
       "      <td>12</td>\n",
       "      <td>13</td>\n",
       "      <td>189</td>\n",
       "      <td>198</td>\n",
       "    </tr>\n",
       "    <tr>\n",
       "      <th>10</th>\n",
       "      <td>316</td>\n",
       "      <td>91</td>\n",
       "      <td>41</td>\n",
       "      <td>66</td>\n",
       "      <td>131</td>\n",
       "      <td>56</td>\n",
       "      <td>9</td>\n",
       "      <td>126</td>\n",
       "      <td>53</td>\n",
       "      <td>18</td>\n",
       "      <td>144</td>\n",
       "      <td>159</td>\n",
       "      <td>237</td>\n",
       "      <td>155</td>\n",
       "      <td>72</td>\n",
       "      <td>3</td>\n",
       "      <td>10</td>\n",
       "      <td>191</td>\n",
       "      <td>194</td>\n",
       "    </tr>\n",
       "    <tr>\n",
       "      <th>11</th>\n",
       "      <td>84</td>\n",
       "      <td>89</td>\n",
       "      <td>40</td>\n",
       "      <td>76</td>\n",
       "      <td>188</td>\n",
       "      <td>76</td>\n",
       "      <td>7</td>\n",
       "      <td>150</td>\n",
       "      <td>44</td>\n",
       "      <td>19</td>\n",
       "      <td>136</td>\n",
       "      <td>174</td>\n",
       "      <td>342</td>\n",
       "      <td>148</td>\n",
       "      <td>72</td>\n",
       "      <td>3</td>\n",
       "      <td>8</td>\n",
       "      <td>193</td>\n",
       "      <td>197</td>\n",
       "    </tr>\n",
       "    <tr>\n",
       "      <th>12</th>\n",
       "      <td>629</td>\n",
       "      <td>90</td>\n",
       "      <td>42</td>\n",
       "      <td>63</td>\n",
       "      <td>144</td>\n",
       "      <td>59</td>\n",
       "      <td>7</td>\n",
       "      <td>131</td>\n",
       "      <td>50</td>\n",
       "      <td>18</td>\n",
       "      <td>142</td>\n",
       "      <td>154</td>\n",
       "      <td>259</td>\n",
       "      <td>162</td>\n",
       "      <td>65</td>\n",
       "      <td>15</td>\n",
       "      <td>3</td>\n",
       "      <td>197</td>\n",
       "      <td>204</td>\n",
       "    </tr>\n",
       "    <tr>\n",
       "      <th>13</th>\n",
       "      <td>662</td>\n",
       "      <td>87</td>\n",
       "      <td>41</td>\n",
       "      <td>66</td>\n",
       "      <td>140</td>\n",
       "      <td>58</td>\n",
       "      <td>6</td>\n",
       "      <td>148</td>\n",
       "      <td>46</td>\n",
       "      <td>19</td>\n",
       "      <td>136</td>\n",
       "      <td>164</td>\n",
       "      <td>318</td>\n",
       "      <td>178</td>\n",
       "      <td>79</td>\n",
       "      <td>19</td>\n",
       "      <td>2</td>\n",
       "      <td>181</td>\n",
       "      <td>185</td>\n",
       "    </tr>\n",
       "    <tr>\n",
       "      <th>14</th>\n",
       "      <td>451</td>\n",
       "      <td>94</td>\n",
       "      <td>37</td>\n",
       "      <td>74</td>\n",
       "      <td>169</td>\n",
       "      <td>59</td>\n",
       "      <td>7</td>\n",
       "      <td>162</td>\n",
       "      <td>41</td>\n",
       "      <td>20</td>\n",
       "      <td>133</td>\n",
       "      <td>178</td>\n",
       "      <td>394</td>\n",
       "      <td>130</td>\n",
       "      <td>63</td>\n",
       "      <td>6</td>\n",
       "      <td>6</td>\n",
       "      <td>198</td>\n",
       "      <td>204</td>\n",
       "    </tr>\n",
       "  </tbody>\n",
       "</table>\n",
       "</div>"
      ],
      "text/plain": [
       "      0    1   2    3    4   5   6    7   8   9   10   11   12   13  14  15  \\\n",
       "0    31   88  42   77  151  58   8  140  47  18  142  165  293  158  64  10   \n",
       "1   562  113  53   93  197  62  11  216  31  24  165  221  688  196  72   6   \n",
       "2   592   79  43   72  141  62   8  153  44  19  144  175  344  174  78   0   \n",
       "3    58  107  53  103  221  66  11  209  32  24  163  222  653  212  66   0   \n",
       "4   328   93  43   88  170  66   9  150  45  19  147  164  334  143  65   2   \n",
       "5   760  107  45   92  197  62  10  188  35  22  148  202  526  159  64  12   \n",
       "6   737  105  51   93  160  51   7  217  30  24  165  240  703  208  81   9   \n",
       "7   399   87  42   64  150  64  10  133  50  18  141  157  265  159  67   7   \n",
       "8   504   97  46   94  209  67  10  195  34  22  147  224  573  194  70   0   \n",
       "9   115   95  47   88  162  64  11  159  43  20  157  176  371  185  71  12   \n",
       "10  316   91  41   66  131  56   9  126  53  18  144  159  237  155  72   3   \n",
       "11   84   89  40   76  188  76   7  150  44  19  136  174  342  148  72   3   \n",
       "12  629   90  42   63  144  59   7  131  50  18  142  154  259  162  65  15   \n",
       "13  662   87  41   66  140  58   6  148  46  19  136  164  318  178  79  19   \n",
       "14  451   94  37   74  169  59   7  162  41  20  133  178  394  130  63   6   \n",
       "\n",
       "    16   17   18  \n",
       "0   11  198  205  \n",
       "1   25  188  199  \n",
       "2    8  182  188  \n",
       "3    1  191  201  \n",
       "4   17  196  206  \n",
       "5   20  195  203  \n",
       "6   25  188  188  \n",
       "7    0  193  201  \n",
       "8   14  188  197  \n",
       "9   13  189  198  \n",
       "10  10  191  194  \n",
       "11   8  193  197  \n",
       "12   3  197  204  \n",
       "13   2  181  185  \n",
       "14   6  198  204  "
      ]
     },
     "execution_count": 3,
     "metadata": {},
     "output_type": "execute_result"
    }
   ],
   "source": [
    "X_train_pd = pd.DataFrame(X_train)\n",
    "\n",
    "# First 15 rows of our dataset.\n",
    "X_train_pd.head(15)"
   ]
  },
  {
   "cell_type": "markdown",
   "metadata": {
    "nbgrader": {
     "grade": false,
     "grade_id": "cell-98e7d91d77d65fcf",
     "locked": true,
     "schema_version": 2,
     "solution": false
    }
   },
   "source": [
    "Methods `describe` and `info` deliver some useful information."
   ]
  },
  {
   "cell_type": "code",
   "execution_count": 4,
   "metadata": {},
   "outputs": [
    {
     "data": {
      "text/html": [
       "<div>\n",
       "<style scoped>\n",
       "    .dataframe tbody tr th:only-of-type {\n",
       "        vertical-align: middle;\n",
       "    }\n",
       "\n",
       "    .dataframe tbody tr th {\n",
       "        vertical-align: top;\n",
       "    }\n",
       "\n",
       "    .dataframe thead th {\n",
       "        text-align: right;\n",
       "    }\n",
       "</style>\n",
       "<table border=\"1\" class=\"dataframe\">\n",
       "  <thead>\n",
       "    <tr style=\"text-align: right;\">\n",
       "      <th></th>\n",
       "      <th>0</th>\n",
       "      <th>1</th>\n",
       "      <th>2</th>\n",
       "      <th>3</th>\n",
       "      <th>4</th>\n",
       "      <th>5</th>\n",
       "      <th>6</th>\n",
       "      <th>7</th>\n",
       "      <th>8</th>\n",
       "      <th>9</th>\n",
       "      <th>10</th>\n",
       "      <th>11</th>\n",
       "      <th>12</th>\n",
       "      <th>13</th>\n",
       "      <th>14</th>\n",
       "      <th>15</th>\n",
       "      <th>16</th>\n",
       "      <th>17</th>\n",
       "      <th>18</th>\n",
       "    </tr>\n",
       "  </thead>\n",
       "  <tbody>\n",
       "    <tr>\n",
       "      <th>count</th>\n",
       "      <td>549.000000</td>\n",
       "      <td>549.000000</td>\n",
       "      <td>549.000000</td>\n",
       "      <td>549.000000</td>\n",
       "      <td>549.000000</td>\n",
       "      <td>549.000000</td>\n",
       "      <td>549.000000</td>\n",
       "      <td>549.000000</td>\n",
       "      <td>549.000000</td>\n",
       "      <td>549.000000</td>\n",
       "      <td>549.000000</td>\n",
       "      <td>549.000000</td>\n",
       "      <td>549.000000</td>\n",
       "      <td>549.000000</td>\n",
       "      <td>549.000000</td>\n",
       "      <td>549.00000</td>\n",
       "      <td>549.000000</td>\n",
       "      <td>549.000000</td>\n",
       "      <td>549.000000</td>\n",
       "    </tr>\n",
       "    <tr>\n",
       "      <th>mean</th>\n",
       "      <td>419.879781</td>\n",
       "      <td>93.497268</td>\n",
       "      <td>44.706740</td>\n",
       "      <td>81.899818</td>\n",
       "      <td>168.846995</td>\n",
       "      <td>61.841530</td>\n",
       "      <td>8.535519</td>\n",
       "      <td>167.888889</td>\n",
       "      <td>41.029144</td>\n",
       "      <td>20.502732</td>\n",
       "      <td>147.790528</td>\n",
       "      <td>187.903461</td>\n",
       "      <td>434.428051</td>\n",
       "      <td>173.905282</td>\n",
       "      <td>72.264117</td>\n",
       "      <td>6.43898</td>\n",
       "      <td>12.759563</td>\n",
       "      <td>189.176685</td>\n",
       "      <td>195.874317</td>\n",
       "    </tr>\n",
       "    <tr>\n",
       "      <th>std</th>\n",
       "      <td>241.440477</td>\n",
       "      <td>7.959896</td>\n",
       "      <td>5.999359</td>\n",
       "      <td>15.175223</td>\n",
       "      <td>32.933386</td>\n",
       "      <td>8.064206</td>\n",
       "      <td>4.391963</td>\n",
       "      <td>32.098395</td>\n",
       "      <td>7.534051</td>\n",
       "      <td>2.500090</td>\n",
       "      <td>14.351741</td>\n",
       "      <td>30.324218</td>\n",
       "      <td>170.617098</td>\n",
       "      <td>32.009438</td>\n",
       "      <td>7.177202</td>\n",
       "      <td>4.90516</td>\n",
       "      <td>9.158007</td>\n",
       "      <td>6.161136</td>\n",
       "      <td>7.270871</td>\n",
       "    </tr>\n",
       "    <tr>\n",
       "      <th>min</th>\n",
       "      <td>1.000000</td>\n",
       "      <td>76.000000</td>\n",
       "      <td>33.000000</td>\n",
       "      <td>44.000000</td>\n",
       "      <td>104.000000</td>\n",
       "      <td>48.000000</td>\n",
       "      <td>2.000000</td>\n",
       "      <td>114.000000</td>\n",
       "      <td>26.000000</td>\n",
       "      <td>17.000000</td>\n",
       "      <td>118.000000</td>\n",
       "      <td>132.000000</td>\n",
       "      <td>192.000000</td>\n",
       "      <td>112.000000</td>\n",
       "      <td>59.000000</td>\n",
       "      <td>0.00000</td>\n",
       "      <td>0.000000</td>\n",
       "      <td>177.000000</td>\n",
       "      <td>181.000000</td>\n",
       "    </tr>\n",
       "    <tr>\n",
       "      <th>25%</th>\n",
       "      <td>211.000000</td>\n",
       "      <td>88.000000</td>\n",
       "      <td>40.000000</td>\n",
       "      <td>70.000000</td>\n",
       "      <td>142.000000</td>\n",
       "      <td>57.000000</td>\n",
       "      <td>7.000000</td>\n",
       "      <td>147.000000</td>\n",
       "      <td>34.000000</td>\n",
       "      <td>19.000000</td>\n",
       "      <td>137.000000</td>\n",
       "      <td>168.000000</td>\n",
       "      <td>318.000000</td>\n",
       "      <td>149.000000</td>\n",
       "      <td>67.000000</td>\n",
       "      <td>2.00000</td>\n",
       "      <td>5.000000</td>\n",
       "      <td>184.000000</td>\n",
       "      <td>191.000000</td>\n",
       "    </tr>\n",
       "    <tr>\n",
       "      <th>50%</th>\n",
       "      <td>418.000000</td>\n",
       "      <td>93.000000</td>\n",
       "      <td>44.000000</td>\n",
       "      <td>79.000000</td>\n",
       "      <td>166.000000</td>\n",
       "      <td>61.000000</td>\n",
       "      <td>8.000000</td>\n",
       "      <td>157.000000</td>\n",
       "      <td>43.000000</td>\n",
       "      <td>20.000000</td>\n",
       "      <td>146.000000</td>\n",
       "      <td>178.000000</td>\n",
       "      <td>363.000000</td>\n",
       "      <td>173.000000</td>\n",
       "      <td>72.000000</td>\n",
       "      <td>6.00000</td>\n",
       "      <td>11.000000</td>\n",
       "      <td>189.000000</td>\n",
       "      <td>197.000000</td>\n",
       "    </tr>\n",
       "    <tr>\n",
       "      <th>75%</th>\n",
       "      <td>635.000000</td>\n",
       "      <td>99.000000</td>\n",
       "      <td>49.000000</td>\n",
       "      <td>96.000000</td>\n",
       "      <td>195.000000</td>\n",
       "      <td>65.000000</td>\n",
       "      <td>10.000000</td>\n",
       "      <td>193.000000</td>\n",
       "      <td>46.000000</td>\n",
       "      <td>22.000000</td>\n",
       "      <td>159.000000</td>\n",
       "      <td>214.000000</td>\n",
       "      <td>570.000000</td>\n",
       "      <td>196.000000</td>\n",
       "      <td>75.000000</td>\n",
       "      <td>9.00000</td>\n",
       "      <td>19.000000</td>\n",
       "      <td>193.000000</td>\n",
       "      <td>201.000000</td>\n",
       "    </tr>\n",
       "    <tr>\n",
       "      <th>max</th>\n",
       "      <td>844.000000</td>\n",
       "      <td>117.000000</td>\n",
       "      <td>59.000000</td>\n",
       "      <td>110.000000</td>\n",
       "      <td>333.000000</td>\n",
       "      <td>138.000000</td>\n",
       "      <td>52.000000</td>\n",
       "      <td>262.000000</td>\n",
       "      <td>59.000000</td>\n",
       "      <td>28.000000</td>\n",
       "      <td>188.000000</td>\n",
       "      <td>320.000000</td>\n",
       "      <td>998.000000</td>\n",
       "      <td>268.000000</td>\n",
       "      <td>135.000000</td>\n",
       "      <td>22.00000</td>\n",
       "      <td>41.000000</td>\n",
       "      <td>204.000000</td>\n",
       "      <td>211.000000</td>\n",
       "    </tr>\n",
       "  </tbody>\n",
       "</table>\n",
       "</div>"
      ],
      "text/plain": [
       "               0           1           2           3           4           5   \\\n",
       "count  549.000000  549.000000  549.000000  549.000000  549.000000  549.000000   \n",
       "mean   419.879781   93.497268   44.706740   81.899818  168.846995   61.841530   \n",
       "std    241.440477    7.959896    5.999359   15.175223   32.933386    8.064206   \n",
       "min      1.000000   76.000000   33.000000   44.000000  104.000000   48.000000   \n",
       "25%    211.000000   88.000000   40.000000   70.000000  142.000000   57.000000   \n",
       "50%    418.000000   93.000000   44.000000   79.000000  166.000000   61.000000   \n",
       "75%    635.000000   99.000000   49.000000   96.000000  195.000000   65.000000   \n",
       "max    844.000000  117.000000   59.000000  110.000000  333.000000  138.000000   \n",
       "\n",
       "               6           7           8           9           10          11  \\\n",
       "count  549.000000  549.000000  549.000000  549.000000  549.000000  549.000000   \n",
       "mean     8.535519  167.888889   41.029144   20.502732  147.790528  187.903461   \n",
       "std      4.391963   32.098395    7.534051    2.500090   14.351741   30.324218   \n",
       "min      2.000000  114.000000   26.000000   17.000000  118.000000  132.000000   \n",
       "25%      7.000000  147.000000   34.000000   19.000000  137.000000  168.000000   \n",
       "50%      8.000000  157.000000   43.000000   20.000000  146.000000  178.000000   \n",
       "75%     10.000000  193.000000   46.000000   22.000000  159.000000  214.000000   \n",
       "max     52.000000  262.000000   59.000000   28.000000  188.000000  320.000000   \n",
       "\n",
       "               12          13          14         15          16          17  \\\n",
       "count  549.000000  549.000000  549.000000  549.00000  549.000000  549.000000   \n",
       "mean   434.428051  173.905282   72.264117    6.43898   12.759563  189.176685   \n",
       "std    170.617098   32.009438    7.177202    4.90516    9.158007    6.161136   \n",
       "min    192.000000  112.000000   59.000000    0.00000    0.000000  177.000000   \n",
       "25%    318.000000  149.000000   67.000000    2.00000    5.000000  184.000000   \n",
       "50%    363.000000  173.000000   72.000000    6.00000   11.000000  189.000000   \n",
       "75%    570.000000  196.000000   75.000000    9.00000   19.000000  193.000000   \n",
       "max    998.000000  268.000000  135.000000   22.00000   41.000000  204.000000   \n",
       "\n",
       "               18  \n",
       "count  549.000000  \n",
       "mean   195.874317  \n",
       "std      7.270871  \n",
       "min    181.000000  \n",
       "25%    191.000000  \n",
       "50%    197.000000  \n",
       "75%    201.000000  \n",
       "max    211.000000  "
      ]
     },
     "execution_count": 4,
     "metadata": {},
     "output_type": "execute_result"
    }
   ],
   "source": [
    "X_train_pd.describe()"
   ]
  },
  {
   "cell_type": "code",
   "execution_count": 5,
   "metadata": {},
   "outputs": [
    {
     "name": "stdout",
     "output_type": "stream",
     "text": [
      "<class 'pandas.core.frame.DataFrame'>\n",
      "RangeIndex: 549 entries, 0 to 548\n",
      "Data columns (total 19 columns):\n",
      " #   Column  Non-Null Count  Dtype\n",
      "---  ------  --------------  -----\n",
      " 0   0       549 non-null    int64\n",
      " 1   1       549 non-null    int64\n",
      " 2   2       549 non-null    int64\n",
      " 3   3       549 non-null    int64\n",
      " 4   4       549 non-null    int64\n",
      " 5   5       549 non-null    int64\n",
      " 6   6       549 non-null    int64\n",
      " 7   7       549 non-null    int64\n",
      " 8   8       549 non-null    int64\n",
      " 9   9       549 non-null    int64\n",
      " 10  10      549 non-null    int64\n",
      " 11  11      549 non-null    int64\n",
      " 12  12      549 non-null    int64\n",
      " 13  13      549 non-null    int64\n",
      " 14  14      549 non-null    int64\n",
      " 15  15      549 non-null    int64\n",
      " 16  16      549 non-null    int64\n",
      " 17  17      549 non-null    int64\n",
      " 18  18      549 non-null    int64\n",
      "dtypes: int64(19)\n",
      "memory usage: 81.6 KB\n"
     ]
    }
   ],
   "source": [
    "X_train_pd.info()"
   ]
  },
  {
   "cell_type": "markdown",
   "metadata": {
    "nbgrader": {
     "grade": false,
     "grade_id": "cell-be844269be69c387",
     "locked": true,
     "schema_version": 2,
     "solution": false
    }
   },
   "source": [
    "### 2. Machine Learning pipeline\n",
    "Here you are supposed to perform the desired transformations. Please, explain your results briefly after each task."
   ]
  },
  {
   "cell_type": "markdown",
   "metadata": {},
   "source": [
    "#### 2.0. Data preprocessing\n",
    "* Make some transformations of the dataset (if necessary). Briefly explain the transformations"
   ]
  },
  {
   "cell_type": "markdown",
   "metadata": {},
   "source": [
    "**Препроцессинг включает в себя заполнение пропусков (не требуется), преобразование нечисловых признаков (не требуется), масшабирование признаков, добавление признаков**"
   ]
  },
  {
   "cell_type": "code",
   "execution_count": 6,
   "metadata": {
    "nbgrader": {
     "grade": true,
     "grade_id": "cell-a1514aa189a49fca",
     "locked": false,
     "points": 15,
     "schema_version": 2,
     "solution": true
    }
   },
   "outputs": [],
   "source": [
    "from sklearn import preprocessing"
   ]
  },
  {
   "cell_type": "code",
   "execution_count": 7,
   "metadata": {},
   "outputs": [],
   "source": [
    "normalizer = preprocessing.StandardScaler()"
   ]
  },
  {
   "cell_type": "markdown",
   "metadata": {},
   "source": [
    "#### 2.1. Basic logistic regression\n",
    "* Find optimal hyperparameters for logistic regression with cross-validation on the `train` data (small grid/random search is enough, no need to find the *best* parameters).\n",
    "\n",
    "* Estimate the model quality with `f1` and `accuracy` scores.\n",
    "* Plot a ROC-curve for the trained model. For the multiclass case you might use `scikitplot` library (e.g. `scikitplot.metrics.plot_roc(test_labels, predicted_proba)`).\n",
    "\n",
    "*Note: please, use the following hyperparameters for logistic regression: `multi_class='multinomial'`, `solver='saga'` `tol=1e-3` and ` max_iter=500`.*"
   ]
  },
  {
   "cell_type": "code",
   "execution_count": 8,
   "metadata": {},
   "outputs": [],
   "source": [
    "from sklearn.linear_model import LogisticRegression\n",
    "from sklearn.model_selection import RandomizedSearchCV\n",
    "from sklearn.pipeline import Pipeline\n",
    "from sklearn.metrics import make_scorer, f1_score\n",
    "import scikitplot"
   ]
  },
  {
   "cell_type": "code",
   "execution_count": 9,
   "metadata": {},
   "outputs": [],
   "source": [
    "model_pipeline = Pipeline(\n",
    "    steps = (\n",
    "        ('preproc', normalizer),\n",
    "        ('lr', LogisticRegression(multi_class='multinomial', solver='saga', tol=1e-3, max_iter=500))\n",
    "    )\n",
    ")\n",
    "param_distr = {\n",
    "    'lr__C': np.logspace(-5, 5, 11)\n",
    "}"
   ]
  },
  {
   "cell_type": "code",
   "execution_count": 70,
   "metadata": {},
   "outputs": [
    {
     "data": {
      "text/html": [
       "<div>\n",
       "<style scoped>\n",
       "    .dataframe tbody tr th:only-of-type {\n",
       "        vertical-align: middle;\n",
       "    }\n",
       "\n",
       "    .dataframe tbody tr th {\n",
       "        vertical-align: top;\n",
       "    }\n",
       "\n",
       "    .dataframe thead th {\n",
       "        text-align: right;\n",
       "    }\n",
       "</style>\n",
       "<table border=\"1\" class=\"dataframe\">\n",
       "  <thead>\n",
       "    <tr style=\"text-align: right;\">\n",
       "      <th></th>\n",
       "      <th>param_lr__C</th>\n",
       "      <th>mean_test_accuracy</th>\n",
       "      <th>rank_test_accuracy</th>\n",
       "      <th>mean_test_f1_weighted</th>\n",
       "      <th>rank_test_f1_weighted</th>\n",
       "    </tr>\n",
       "  </thead>\n",
       "  <tbody>\n",
       "    <tr>\n",
       "      <th>3</th>\n",
       "      <td>100</td>\n",
       "      <td>0.785054</td>\n",
       "      <td>1</td>\n",
       "      <td>0.781387</td>\n",
       "      <td>1</td>\n",
       "    </tr>\n",
       "    <tr>\n",
       "      <th>8</th>\n",
       "      <td>10000</td>\n",
       "      <td>0.785054</td>\n",
       "      <td>1</td>\n",
       "      <td>0.781387</td>\n",
       "      <td>1</td>\n",
       "    </tr>\n",
       "    <tr>\n",
       "      <th>9</th>\n",
       "      <td>1000</td>\n",
       "      <td>0.785054</td>\n",
       "      <td>1</td>\n",
       "      <td>0.781387</td>\n",
       "      <td>1</td>\n",
       "    </tr>\n",
       "    <tr>\n",
       "      <th>0</th>\n",
       "      <td>10</td>\n",
       "      <td>0.781418</td>\n",
       "      <td>4</td>\n",
       "      <td>0.777577</td>\n",
       "      <td>4</td>\n",
       "    </tr>\n",
       "    <tr>\n",
       "      <th>5</th>\n",
       "      <td>1</td>\n",
       "      <td>0.775880</td>\n",
       "      <td>5</td>\n",
       "      <td>0.771074</td>\n",
       "      <td>5</td>\n",
       "    </tr>\n",
       "    <tr>\n",
       "      <th>6</th>\n",
       "      <td>0.1</td>\n",
       "      <td>0.744954</td>\n",
       "      <td>6</td>\n",
       "      <td>0.734511</td>\n",
       "      <td>6</td>\n",
       "    </tr>\n",
       "    <tr>\n",
       "      <th>2</th>\n",
       "      <td>0.01</td>\n",
       "      <td>0.681201</td>\n",
       "      <td>7</td>\n",
       "      <td>0.651946</td>\n",
       "      <td>7</td>\n",
       "    </tr>\n",
       "    <tr>\n",
       "      <th>4</th>\n",
       "      <td>0.001</td>\n",
       "      <td>0.555680</td>\n",
       "      <td>8</td>\n",
       "      <td>0.498954</td>\n",
       "      <td>8</td>\n",
       "    </tr>\n",
       "    <tr>\n",
       "      <th>7</th>\n",
       "      <td>0.0001</td>\n",
       "      <td>0.380651</td>\n",
       "      <td>9</td>\n",
       "      <td>0.262993</td>\n",
       "      <td>9</td>\n",
       "    </tr>\n",
       "    <tr>\n",
       "      <th>1</th>\n",
       "      <td>1e-05</td>\n",
       "      <td>0.265938</td>\n",
       "      <td>10</td>\n",
       "      <td>0.111745</td>\n",
       "      <td>10</td>\n",
       "    </tr>\n",
       "  </tbody>\n",
       "</table>\n",
       "</div>"
      ],
      "text/plain": [
       "  param_lr__C  mean_test_accuracy  rank_test_accuracy  mean_test_f1_weighted  \\\n",
       "3         100            0.785054                   1               0.781387   \n",
       "8       10000            0.785054                   1               0.781387   \n",
       "9        1000            0.785054                   1               0.781387   \n",
       "0          10            0.781418                   4               0.777577   \n",
       "5           1            0.775880                   5               0.771074   \n",
       "6         0.1            0.744954                   6               0.734511   \n",
       "2        0.01            0.681201                   7               0.651946   \n",
       "4       0.001            0.555680                   8               0.498954   \n",
       "7      0.0001            0.380651                   9               0.262993   \n",
       "1       1e-05            0.265938                  10               0.111745   \n",
       "\n",
       "   rank_test_f1_weighted  \n",
       "3                      1  \n",
       "8                      1  \n",
       "9                      1  \n",
       "0                      4  \n",
       "5                      5  \n",
       "6                      6  \n",
       "2                      7  \n",
       "4                      8  \n",
       "7                      9  \n",
       "1                     10  "
      ]
     },
     "execution_count": 70,
     "metadata": {},
     "output_type": "execute_result"
    }
   ],
   "source": [
    "clf = RandomizedSearchCV(model_pipeline, param_distr, scoring=['f1_weighted', 'accuracy'],\n",
    "                         cv=5, n_jobs=-1, refit='accuracy')\n",
    "clf.fit(X_train, y_train)\n",
    "pd.DataFrame(clf.cv_results_)[['param_lr__C',\n",
    "                               'mean_test_accuracy',\n",
    "                               'rank_test_accuracy',\n",
    "                               'mean_test_f1_weighted',\n",
    "                               'rank_test_f1_weighted',\n",
    "                              ]].sort_values('rank_test_accuracy')"
   ]
  },
  {
   "cell_type": "code",
   "execution_count": 50,
   "metadata": {},
   "outputs": [
    {
     "data": {
      "text/plain": [
       "<matplotlib.axes._subplots.AxesSubplot at 0x7ff0e19f76d8>"
      ]
     },
     "execution_count": 50,
     "metadata": {},
     "output_type": "execute_result"
    },
    {
     "data": {
      "image/png": "[encoded data removed]",
      "text/plain": [
       "<Figure size 576x576 with 1 Axes>"
      ]
     },
     "metadata": {
      "needs_background": "light"
     },
     "output_type": "display_data"
    }
   ],
   "source": [
    "scikitplot.metrics.plot_roc(y_test, clf.predict_proba(X_test), figsize=(8, 8))"
   ]
  },
  {
   "cell_type": "markdown",
   "metadata": {},
   "source": [
    "**Вывод**"
   ]
  },
  {
   "cell_type": "markdown",
   "metadata": {},
   "source": [
    "#### 2.2. PCA: explained variance plot\n",
    "* Apply the PCA to the train part of the data. Build the explained variance plot. "
   ]
  },
  {
   "cell_type": "code",
   "execution_count": 12,
   "metadata": {
    "nbgrader": {
     "grade": true,
     "grade_id": "cell-c6c614740bce090e",
     "locked": false,
     "points": 10,
     "schema_version": 2,
     "solution": true
    }
   },
   "outputs": [],
   "source": [
    "from sklearn.decomposition import PCA\n",
    "import matplotlib.pyplot as plt"
   ]
  },
  {
   "cell_type": "code",
   "execution_count": 13,
   "metadata": {},
   "outputs": [],
   "source": [
    "X_norm = normalizer.fit_transform(X_train)"
   ]
  },
  {
   "cell_type": "code",
   "execution_count": 14,
   "metadata": {},
   "outputs": [],
   "source": [
    "pca = PCA(n_components=19)\n",
    "pca.fit(X_norm)\n",
    "loss = pca.explained_variance_\n",
    "for i in range(18, 0, -1):\n",
    "    loss[i - 1] += loss[i]\n",
    "loss /= loss[0]"
   ]
  },
  {
   "cell_type": "code",
   "execution_count": 15,
   "metadata": {},
   "outputs": [
    {
     "data": {
      "image/png": "[encoded data removed]",
      "text/plain": [
       "<Figure size 864x432 with 1 Axes>"
      ]
     },
     "metadata": {
      "needs_background": "light"
     },
     "output_type": "display_data"
    }
   ],
   "source": [
    "plt.figure(figsize=(12, 6))\n",
    "plt.scatter(np.arange(0, 19, 1), loss)\n",
    "plt.xlabel('Components number', fontsize=18)\n",
    "plt.ylabel('Reconstruction loss', fontsize=18)\n",
    "plt.plot(np.arange(0, 19, 1), loss)\n",
    "plt.grid(':')\n",
    "plt.show()"
   ]
  },
  {
   "cell_type": "markdown",
   "metadata": {
    "nbgrader": {
     "grade": false,
     "grade_id": "cell-0c1fe666f52fe53c",
     "locked": true,
     "schema_version": 2,
     "solution": false
    }
   },
   "source": [
    "#### 2.3. PCA trasformation\n",
    "* Select the appropriate number of components. Briefly explain your choice. Should you normalize the data?\n",
    "\n",
    "*Use `fit` and `transform` methods to transform the `train` and `test` parts.*"
   ]
  },
  {
   "cell_type": "code",
   "execution_count": 55,
   "metadata": {
    "nbgrader": {
     "grade": true,
     "grade_id": "cell-96ab18d96473ef71",
     "locked": false,
     "points": 5,
     "schema_version": 2,
     "solution": true
    }
   },
   "outputs": [],
   "source": [
    "pca = PCA(n_components=13)"
   ]
  },
  {
   "cell_type": "markdown",
   "metadata": {},
   "source": [
    "**Почему?**"
   ]
  },
  {
   "cell_type": "markdown",
   "metadata": {},
   "source": [
    "**Note: From this point `sklearn` [Pipeline](https://scikit-learn.org/stable/modules/compose.html) might be useful to perform transformations on the data. Refer to the [docs](https://scikit-learn.org/stable/modules/generated/sklearn.pipeline.Pipeline.html) for more information.**"
   ]
  },
  {
   "cell_type": "markdown",
   "metadata": {
    "nbgrader": {
     "grade": false,
     "grade_id": "cell-d28b58a35c94e988",
     "locked": true,
     "schema_version": 2,
     "solution": false
    }
   },
   "source": [
    "#### 2.4. Logistic regression on PCA-preprocessed data.\n",
    "* Find optimal hyperparameters for logistic regression with cross-validation on the transformed by PCA `train` data.\n",
    "\n",
    "* Estimate the model quality with `f1` and `accuracy` scores.\n",
    "* Plot a ROC-curve for the trained model. For the multiclass case you might use `scikitplot` library (e.g. `scikitplot.metrics.plot_roc(test_labels, predicted_proba)`).\n",
    "\n",
    "*Note: please, use the following hyperparameters for logistic regression: `multi_class='multinomial'`, `solver='saga'` and `tol=1e-3`*"
   ]
  },
  {
   "cell_type": "code",
   "execution_count": 56,
   "metadata": {
    "nbgrader": {
     "grade": true,
     "grade_id": "cell-12d53ea45258fa82",
     "locked": false,
     "points": 5,
     "schema_version": 2,
     "solution": true
    }
   },
   "outputs": [],
   "source": [
    "pca_pipeline = Pipeline(\n",
    "    steps = (\n",
    "        ('scale', normalizer),\n",
    "        ('pca', pca),\n",
    "        ('lr', LogisticRegression(multi_class='multinomial', solver='saga', tol=1e-3, max_iter=500))\n",
    "    )\n",
    ")\n",
    "param_distr = {\n",
    "    'lr__C': np.logspace(-5, 5, 11)\n",
    "}"
   ]
  },
  {
   "cell_type": "code",
   "execution_count": 69,
   "metadata": {},
   "outputs": [
    {
     "data": {
      "text/html": [
       "<div>\n",
       "<style scoped>\n",
       "    .dataframe tbody tr th:only-of-type {\n",
       "        vertical-align: middle;\n",
       "    }\n",
       "\n",
       "    .dataframe tbody tr th {\n",
       "        vertical-align: top;\n",
       "    }\n",
       "\n",
       "    .dataframe thead th {\n",
       "        text-align: right;\n",
       "    }\n",
       "</style>\n",
       "<table border=\"1\" class=\"dataframe\">\n",
       "  <thead>\n",
       "    <tr style=\"text-align: right;\">\n",
       "      <th></th>\n",
       "      <th>param_lr__C</th>\n",
       "      <th>mean_test_accuracy</th>\n",
       "      <th>rank_test_accuracy</th>\n",
       "      <th>mean_test_f1_weighted</th>\n",
       "      <th>rank_test_f1_weighted</th>\n",
       "    </tr>\n",
       "  </thead>\n",
       "  <tbody>\n",
       "    <tr>\n",
       "      <th>1</th>\n",
       "      <td>10</td>\n",
       "      <td>0.750404</td>\n",
       "      <td>1</td>\n",
       "      <td>0.747415</td>\n",
       "      <td>1</td>\n",
       "    </tr>\n",
       "    <tr>\n",
       "      <th>8</th>\n",
       "      <td>1</td>\n",
       "      <td>0.744983</td>\n",
       "      <td>2</td>\n",
       "      <td>0.740211</td>\n",
       "      <td>2</td>\n",
       "    </tr>\n",
       "    <tr>\n",
       "      <th>2</th>\n",
       "      <td>100</td>\n",
       "      <td>0.743131</td>\n",
       "      <td>3</td>\n",
       "      <td>0.739269</td>\n",
       "      <td>3</td>\n",
       "    </tr>\n",
       "    <tr>\n",
       "      <th>3</th>\n",
       "      <td>100000</td>\n",
       "      <td>0.743131</td>\n",
       "      <td>3</td>\n",
       "      <td>0.739269</td>\n",
       "      <td>3</td>\n",
       "    </tr>\n",
       "    <tr>\n",
       "      <th>4</th>\n",
       "      <td>10000</td>\n",
       "      <td>0.743131</td>\n",
       "      <td>3</td>\n",
       "      <td>0.739269</td>\n",
       "      <td>3</td>\n",
       "    </tr>\n",
       "    <tr>\n",
       "      <th>5</th>\n",
       "      <td>1000</td>\n",
       "      <td>0.743131</td>\n",
       "      <td>3</td>\n",
       "      <td>0.739269</td>\n",
       "      <td>3</td>\n",
       "    </tr>\n",
       "    <tr>\n",
       "      <th>9</th>\n",
       "      <td>0.1</td>\n",
       "      <td>0.734074</td>\n",
       "      <td>7</td>\n",
       "      <td>0.723312</td>\n",
       "      <td>7</td>\n",
       "    </tr>\n",
       "    <tr>\n",
       "      <th>7</th>\n",
       "      <td>0.01</td>\n",
       "      <td>0.681178</td>\n",
       "      <td>8</td>\n",
       "      <td>0.648144</td>\n",
       "      <td>8</td>\n",
       "    </tr>\n",
       "    <tr>\n",
       "      <th>0</th>\n",
       "      <td>0.001</td>\n",
       "      <td>0.548384</td>\n",
       "      <td>9</td>\n",
       "      <td>0.485934</td>\n",
       "      <td>9</td>\n",
       "    </tr>\n",
       "    <tr>\n",
       "      <th>6</th>\n",
       "      <td>0.0001</td>\n",
       "      <td>0.382492</td>\n",
       "      <td>10</td>\n",
       "      <td>0.266837</td>\n",
       "      <td>10</td>\n",
       "    </tr>\n",
       "  </tbody>\n",
       "</table>\n",
       "</div>"
      ],
      "text/plain": [
       "  param_lr__C  mean_test_accuracy  rank_test_accuracy  mean_test_f1_weighted  \\\n",
       "1          10            0.750404                   1               0.747415   \n",
       "8           1            0.744983                   2               0.740211   \n",
       "2         100            0.743131                   3               0.739269   \n",
       "3      100000            0.743131                   3               0.739269   \n",
       "4       10000            0.743131                   3               0.739269   \n",
       "5        1000            0.743131                   3               0.739269   \n",
       "9         0.1            0.734074                   7               0.723312   \n",
       "7        0.01            0.681178                   8               0.648144   \n",
       "0       0.001            0.548384                   9               0.485934   \n",
       "6      0.0001            0.382492                  10               0.266837   \n",
       "\n",
       "   rank_test_f1_weighted  \n",
       "1                      1  \n",
       "8                      2  \n",
       "2                      3  \n",
       "3                      3  \n",
       "4                      3  \n",
       "5                      3  \n",
       "9                      7  \n",
       "7                      8  \n",
       "0                      9  \n",
       "6                     10  "
      ]
     },
     "execution_count": 69,
     "metadata": {},
     "output_type": "execute_result"
    }
   ],
   "source": [
    "pca_clf = RandomizedSearchCV(pca_pipeline, param_distr, scoring=['f1_weighted', 'accuracy'],\n",
    "                             cv=10, n_jobs=-1, refit='accuracy')\n",
    "pca_clf.fit(X_train, y_train)\n",
    "pd.DataFrame(pca_clf.cv_results_)[['param_lr__C',\n",
    "                               'mean_test_accuracy',\n",
    "                               'rank_test_accuracy',\n",
    "                               'mean_test_f1_weighted',\n",
    "                               'rank_test_f1_weighted',\n",
    "                              ]].sort_values('rank_test_accuracy')"
   ]
  },
  {
   "cell_type": "code",
   "execution_count": 19,
   "metadata": {},
   "outputs": [
    {
     "data": {
      "text/plain": [
       "<matplotlib.axes._subplots.AxesSubplot at 0x7ff0e1a18710>"
      ]
     },
     "execution_count": 19,
     "metadata": {},
     "output_type": "execute_result"
    },
    {
     "data": {
      "image/png": "[encoded data removed]",
      "text/plain": [
       "<Figure size 576x576 with 1 Axes>"
      ]
     },
     "metadata": {
      "needs_background": "light"
     },
     "output_type": "display_data"
    }
   ],
   "source": [
    "scikitplot.metrics.plot_roc(y_test, pca_clf.predict_proba(X_test), figsize=(8, 8))"
   ]
  },
  {
   "cell_type": "markdown",
   "metadata": {
    "nbgrader": {
     "grade": false,
     "grade_id": "cell-4fbf16c64076e139",
     "locked": true,
     "schema_version": 2,
     "solution": false
    }
   },
   "source": [
    "#### 2.5. Decision tree\n",
    "* Now train a desicion tree on the same data. Find optimal tree depth (`max_depth`) using cross-validation.\n",
    "\n",
    "* Measure the model quality using the same metrics you used above."
   ]
  },
  {
   "cell_type": "code",
   "execution_count": null,
   "metadata": {
    "nbgrader": {
     "grade": true,
     "grade_id": "cell-748ed20b51c67fab",
     "locked": false,
     "points": 15,
     "schema_version": 2,
     "solution": true
    }
   },
   "outputs": [],
   "source": [
    "from sklearn.tree import DecisionTreeClassifier\n",
    "\n",
    "# YOUR CODE HERE"
   ]
  },
  {
   "cell_type": "markdown",
   "metadata": {
    "nbgrader": {
     "grade": false,
     "grade_id": "cell-9eadd4d8a03ae67a",
     "locked": true,
     "schema_version": 2,
     "solution": false
    }
   },
   "source": [
    "#### 2.6. Bagging.\n",
    "Here starts the ensembling part.\n",
    "\n",
    "First we will use the __Bagging__ approach. Build an ensemble of N algorithms varying N from 2 to 100 (with step 5).\n",
    "\n",
    "We will build two ensembles: of logistic regressions and of decision trees.\n",
    "\n",
    "*Comment: each ensemble should be constructed from models of the same family, so logistic regressions should not be mixed up with decision trees.*\n",
    "\n",
    "\n",
    "To build a __Bagging__ ensebmle you might generate 50 subsets of `train` data (of the same size as the original dataset) using bootstrap procedure. Then you train logistic regression/decision tree with optimal hyperparameters you estimated before on each subset. Finally, you average the models predictions.\n",
    "\n",
    "*Hint: sklearn might help you with this taks. Some appropriate function/class might be out there.*\n",
    "\n",
    "* Plot `f1` and `accuracy` scores plots w.r.t. the size of the ensemble.\n",
    "\n",
    "* Briefly analyse the plot. What is the optimal number of algorithms? Explain your answer.\n",
    "\n",
    "* How do you think, are the hyperparameters for the decision trees you found in 2.5 optimal for trees used in ensemble? "
   ]
  },
  {
   "cell_type": "code",
   "execution_count": null,
   "metadata": {
    "nbgrader": {
     "grade": true,
     "grade_id": "cell-8fc95a2b206bdae1",
     "locked": false,
     "points": 35,
     "schema_version": 2,
     "solution": true
    }
   },
   "outputs": [],
   "source": [
    "# YOUR CODE HERE"
   ]
  },
  {
   "cell_type": "markdown",
   "metadata": {
    "nbgrader": {
     "grade": false,
     "grade_id": "cell-241b7691ab44cbfb",
     "locked": true,
     "schema_version": 2,
     "solution": false
    }
   },
   "source": [
    "#### 2.7. Random Forest\n",
    "Now we will work with the Random Forest (its `sklearn` implementation).\n",
    "\n",
    "* * Plot `f1` and `accuracy` scores plots w.r.t. the number of trees in Random Forest.\n",
    "\n",
    "* What is the optimal number of trees you've got? Is it different from the optimal number of logistic regressions/decision trees in 2.6? Explain the results briefly."
   ]
  },
  {
   "cell_type": "code",
   "execution_count": null,
   "metadata": {
    "nbgrader": {
     "grade": true,
     "grade_id": "cell-888755d0f3d91620",
     "locked": false,
     "points": 15,
     "schema_version": 2,
     "solution": true
    }
   },
   "outputs": [],
   "source": [
    "from sklearn.ensemble import RandomForestClassifier\n",
    "\n",
    "# YOUR CODE HERE"
   ]
  },
  {
   "cell_type": "markdown",
   "metadata": {
    "nbgrader": {
     "grade": false,
     "grade_id": "cell-99191c0852538d4d",
     "locked": true,
     "schema_version": 2,
     "solution": false
    }
   },
   "source": [
    "#### 2.8. Learning curve\n",
    "Your goal is to estimate, how does the model behaviour change with the increase of the `train` dataset size.\n",
    "\n",
    "* Split the training data into 10 equal (almost) parts. Then train the models from above (Logistic regression, Desicion Tree, Random Forest) with optimal hyperparameters you have selected on 1 part, 2 parts (combined, so the train size in increased by 2 times), 3 parts and so on.\n",
    "\n",
    "* Build a plot of `accuracy` and `f1` scores on `test` part, varying the `train` dataset size (so the axes will be score - dataset size.\n",
    "\n",
    "* Analyse the final plot. Can you make any conlusions using it? "
   ]
  },
  {
   "cell_type": "code",
   "execution_count": null,
   "metadata": {
    "nbgrader": {
     "grade": true,
     "grade_id": "cell-e39bc7e7dff61ff9",
     "locked": false,
     "points": 15,
     "schema_version": 2,
     "solution": true
    }
   },
   "outputs": [],
   "source": [
    "# YOUR CODE HERE"
   ]
  }
 ],
 "metadata": {
  "celltoolbar": "Create Assignment",
  "kernelspec": {
   "display_name": "Python 3",
   "language": "python",
   "name": "python3"
  },
  "language_info": {
   "codemirror_mode": {
    "name": "ipython",
    "version": 3
   },
   "file_extension": ".py",
   "mimetype": "text/x-python",
   "name": "python",
   "nbconvert_exporter": "python",
   "pygments_lexer": "ipython3",
   "version": "3.6.9"
  },
  "toc": {
   "base_numbering": 1,
   "nav_menu": {},
   "number_sections": false,
   "sideBar": true,
   "skip_h1_title": false,
   "title_cell": "Table of Contents",
   "title_sidebar": "Contents",
   "toc_cell": false,
   "toc_position": {},
   "toc_section_display": true,
   "toc_window_display": false
  }
 },
 "nbformat": 4,
 "nbformat_minor": 2
}
